{
 "cells": [
  {
   "cell_type": "markdown",
   "metadata": {},
   "source": [
    "The advent of Code is a yearly festival for programmers like me where we try to solve different stories to gain stars. I love these challenge because its fun and takes us slowly from beginner level to harder level. I am really weak in competitive programming and DSA stuff but still, I like to try Advent of Code. Last year I was only able to complete up to day 16 and I had to take help from some sources like Reddit too. This year I forgot the start date and it's already December 3. I will not be in the rank but this is really a fun and great challenge. Let's start from Day 1.\n",
    "\n",
    "The input data will be in two parts, the first part will be the test given on the site and the second part is the personalized input. There will be a special line `Split from here` which separates these parts. \n",
    "\n",
    "After I copy the data from the challenge page to the respective text file of a challenge i.e. day1.txt for the day 1 challenge, I write a solution for the test first and if it matches the answer then I run it on my input. Mostly it works.\n",
    "\n",
    "As usual, my solutions are in [repository](https://github.com/q-viper/Adevent-Of-Code.git) as well.\n"
   ]
  },
  {
   "cell_type": "markdown",
   "metadata": {},
   "source": [
    "\n",
    "## Preparation and Pushing Solution"
   ]
  },
  {
   "cell_type": "markdown",
   "metadata": {},
   "source": [
    "### Data Files\n",
    "No need to run this again.\n",
    "\n"
   ]
  },
  {
   "cell_type": "code",
   "execution_count": 6,
   "metadata": {
    "ExecuteTime": {
     "end_time": "2022-12-03T13:42:27.729456Z",
     "start_time": "2022-12-03T13:42:27.342873Z"
    }
   },
   "outputs": [],
   "source": [
    "for i in range(2, 26):\n",
    "    with open(f\"data/day{i}.txt\",\"w\") as fp:\n",
    "        fp.writelines(\"Split From Here\")\n",
    "    "
   ]
  },
  {
   "cell_type": "markdown",
   "metadata": {},
   "source": [
    "### Pushing Solution"
   ]
  },
  {
   "cell_type": "code",
   "execution_count": 128,
   "metadata": {
    "ExecuteTime": {
     "end_time": "2022-12-04T11:04:32.761767Z",
     "start_time": "2022-12-04T11:04:28.744605Z"
    },
    "scrolled": true
   },
   "outputs": [
    {
     "name": "stderr",
     "output_type": "stream",
     "text": [
      "warning: LF will be replaced by CRLF in 2022/2022.ipynb.\n",
      "The file will have its original line endings in your working directory\n",
      "warning: LF will be replaced by CRLF in 2022/data/day2.txt.\n",
      "The file will have its original line endings in your working directory\n",
      "warning: LF will be replaced by CRLF in 2022/data/day3.txt.\n",
      "The file will have its original line endings in your working directory\n",
      "warning: LF will be replaced by CRLF in 2022/data/day4.txt.\n",
      "The file will have its original line endings in your working directory\n",
      "warning: LF will be replaced by CRLF in 2022/data/day1.txt.\n",
      "The file will have its original line endings in your working directory\n"
     ]
    },
    {
     "name": "stdout",
     "output_type": "stream",
     "text": [
      "[master f672c05] added day 2,3,4 solution\n",
      " 5 files changed, 4231 insertions(+), 72 deletions(-)\n",
      " rename 2022/data/{1.txt => day1.txt} (100%)\n",
      " rewrite 2022/data/day2.txt (100%)\n",
      " rewrite 2022/data/day3.txt (100%)\n",
      " rewrite 2022/data/day4.txt (100%)\n"
     ]
    },
    {
     "name": "stderr",
     "output_type": "stream",
     "text": [
      "To https://github.com/q-viper/Adevent-Of-Code.git\n",
      "   3bd91b4..f672c05  master -> master\n"
     ]
    }
   ],
   "source": [
    "! git add .\n",
    "! git commit -m\"added day 2,3,4 solution\"\n",
    "! git push origin master"
   ]
  },
  {
   "cell_type": "markdown",
   "metadata": {},
   "source": [
    "## Reader Function\n",
    "\n",
    "This is the same as the previous year's function. I copy the input into a file inside the `data` directory and it will be read from here.\n"
   ]
  },
  {
   "cell_type": "code",
   "execution_count": 3,
   "metadata": {
    "ExecuteTime": {
     "end_time": "2022-12-03T13:45:26.454414Z",
     "start_time": "2022-12-03T13:45:26.438410Z"
    }
   },
   "outputs": [],
   "source": [
    "import numpy as np"
   ]
  },
  {
   "cell_type": "code",
   "execution_count": 36,
   "metadata": {
    "ExecuteTime": {
     "end_time": "2022-12-04T11:04:52.737296Z",
     "start_time": "2022-12-04T11:04:52.725313Z"
    }
   },
   "outputs": [],
   "source": [
    "\n",
    "def get_data(day=1, raw=False):\n",
    "    \"\"\"\n",
    "    Returns test and real data in list format.\n",
    "    Raw data should be maintained as:\n",
    "        [test data]\n",
    "        Split From Here\n",
    "        [actual data]\n",
    "    \"\"\"\n",
    "    file_name = f\"data/day{day}.txt\"\n",
    "    \n",
    "    with open(file_name) as fp:\n",
    "        data=fp.read().split(\"Split From Here\")\n",
    "        if raw==False:\n",
    "            data = fp.read().strip().split(\"Split From Here\")\n",
    "            data = [d.strip().split(\"\\n\") for d in data]\n",
    "        return data\n",
    "# get_data()"
   ]
  },
  {
   "cell_type": "markdown",
   "metadata": {},
   "source": [
    "## Day 1\n",
    "Problem [link](https://adventofcode.com/2022/day/1)."
   ]
  },
  {
   "cell_type": "code",
   "execution_count": null,
   "metadata": {
    "ExecuteTime": {
     "end_time": "2022-12-04T11:04:53.418760Z",
     "start_time": "2022-12-04T11:04:53.409763Z"
    }
   },
   "outputs": [
    {
     "data": {
      "text/plain": [
       "'18313'"
      ]
     },
     "execution_count": 132,
     "metadata": {},
     "output_type": "execute_result"
    }
   ],
   "source": [
    "data=get_data()[1]\n",
    "data[0]"
   ]
  },
  {
   "cell_type": "markdown",
   "metadata": {},
   "source": [
    "### Part 1\n",
    "\n",
    ">Find the Elf carrying the most Calories. How many total Calories is that Elf carrying?"
   ]
  },
  {
   "cell_type": "code",
   "execution_count": null,
   "metadata": {
    "ExecuteTime": {
     "end_time": "2022-12-04T11:04:54.324611Z",
     "start_time": "2022-12-04T11:04:54.313614Z"
    }
   },
   "outputs": [
    {
     "data": {
      "text/plain": [
       "'18313'"
      ]
     },
     "execution_count": 133,
     "metadata": {},
     "output_type": "execute_result"
    }
   ],
   "source": [
    "data[0]"
   ]
  },
  {
   "cell_type": "code",
   "execution_count": null,
   "metadata": {
    "ExecuteTime": {
     "end_time": "2022-12-04T11:04:54.754805Z",
     "start_time": "2022-12-04T11:04:54.718796Z"
    }
   },
   "outputs": [
    {
     "data": {
      "text/plain": [
       "71924"
      ]
     },
     "execution_count": 134,
     "metadata": {},
     "output_type": "execute_result"
    }
   ],
   "source": [
    "ndata = np.array(data)\n",
    "indx = np.where(ndata=='')[0]\n",
    "calories = np.split(ndata, indx)\n",
    "calories = np.array([np.delete(nd, np.where(nd == '')[0]).astype(int).sum() for nd in calories])\n",
    "calories.max()"
   ]
  },
  {
   "cell_type": "code",
   "execution_count": null,
   "metadata": {
    "ExecuteTime": {
     "end_time": "2022-12-03T13:52:01.759276Z",
     "start_time": "2022-12-03T13:52:01.743250Z"
    }
   },
   "outputs": [],
   "source": []
  },
  {
   "cell_type": "markdown",
   "metadata": {},
   "source": [
    "### Part 2"
   ]
  },
  {
   "cell_type": "code",
   "execution_count": null,
   "metadata": {
    "ExecuteTime": {
     "end_time": "2022-12-04T11:04:56.536518Z",
     "start_time": "2022-12-04T11:04:56.520865Z"
    }
   },
   "outputs": [
    {
     "data": {
      "text/plain": [
       "210406"
      ]
     },
     "execution_count": 135,
     "metadata": {},
     "output_type": "execute_result"
    }
   ],
   "source": [
    "ncalories = calories.copy() \n",
    "ncalories.sort()\n",
    "ncalories[-3:].sum()"
   ]
  },
  {
   "cell_type": "markdown",
   "metadata": {},
   "source": [
    "## Day 2\n",
    "Problem [link](https://adventofcode.com/2022/day/2)."
   ]
  },
  {
   "cell_type": "markdown",
   "metadata": {},
   "source": [
    "### Part 1"
   ]
  },
  {
   "cell_type": "code",
   "execution_count": null,
   "metadata": {
    "ExecuteTime": {
     "end_time": "2022-12-04T11:04:59.419350Z",
     "start_time": "2022-12-04T11:04:59.386333Z"
    }
   },
   "outputs": [
    {
     "data": {
      "text/plain": [
       "['A Y', 'B X', 'C Z']"
      ]
     },
     "execution_count": 136,
     "metadata": {},
     "output_type": "execute_result"
    }
   ],
   "source": [
    "data = get_data(2)\n",
    "data[0]"
   ]
  },
  {
   "cell_type": "code",
   "execution_count": null,
   "metadata": {
    "ExecuteTime": {
     "end_time": "2022-12-04T11:04:59.733783Z",
     "start_time": "2022-12-04T11:04:59.714775Z"
    }
   },
   "outputs": [
    {
     "data": {
      "text/plain": [
       "10816"
      ]
     },
     "execution_count": 137,
     "metadata": {},
     "output_type": "execute_result"
    }
   ],
   "source": [
    "# Response X for Rock, Y for Paper, and Z for Scissors\n",
    "# Elf A for Rock, B for Paper, and C for Scissors\n",
    "rvalue = {'X':1, 'Y':2, 'Z':3}\n",
    "rps1 = \"ABC\"\n",
    "rps2 = 'XYZ'\n",
    "win = [f\"{r1} {r2}\" for r1,r2 in zip(rps1, rps2[1:]+rps2[:1])]\n",
    "loss = [f\"{r1} {r2}\" for r1,r2 in zip(rps1, rps2[-1:] +rps2[:-1])]\n",
    "\n",
    "score = 0\n",
    "for game in data[1]:\n",
    "    score+=rvalue[game[-1]]\n",
    "    if game in win:\n",
    "        score+=6\n",
    "    elif game in loss:\n",
    "        score+= 0\n",
    "    else:\n",
    "        score+=3\n",
    "    # print(score)\n",
    "score   "
   ]
  },
  {
   "cell_type": "code",
   "execution_count": null,
   "metadata": {
    "ExecuteTime": {
     "end_time": "2022-12-04T10:29:56.584250Z",
     "start_time": "2022-12-04T10:29:56.561248Z"
    }
   },
   "outputs": [],
   "source": []
  },
  {
   "cell_type": "markdown",
   "metadata": {},
   "source": [
    "### Part 2"
   ]
  },
  {
   "cell_type": "code",
   "execution_count": null,
   "metadata": {
    "ExecuteTime": {
     "end_time": "2022-12-04T11:05:00.895915Z",
     "start_time": "2022-12-04T11:05:00.862913Z"
    }
   },
   "outputs": [
    {
     "name": "stdout",
     "output_type": "stream",
     "text": [
      "11657\n"
     ]
    }
   ],
   "source": [
    "score = 0\n",
    "avalue = {i:j+1 for j,i in enumerate(rps1)}\n",
    "for game in data[1]: \n",
    "    # print(game)\n",
    "    if game[-1] == 'Z':\n",
    "        v = [k for k in win if game[0] in k][0][-1]\n",
    "        score+=6\n",
    "    elif game[-1] =='X':\n",
    "        v = [k for k in loss if game[0] in k][0][-1]\n",
    "        score+= 0\n",
    "    else:\n",
    "        v = rps2[rps1.index(game[0])]\n",
    "        score+=3\n",
    "    score+=rvalue[v]\n",
    "print(score)"
   ]
  },
  {
   "cell_type": "code",
   "execution_count": null,
   "metadata": {},
   "outputs": [],
   "source": []
  },
  {
   "cell_type": "markdown",
   "metadata": {},
   "source": [
    "## Day 3\n",
    "\n",
    "Problem [link](https://adventofcode.com/2022/day/2)."
   ]
  },
  {
   "cell_type": "markdown",
   "metadata": {},
   "source": [
    "### Part 1\n",
    "\n"
   ]
  },
  {
   "cell_type": "code",
   "execution_count": null,
   "metadata": {
    "ExecuteTime": {
     "end_time": "2022-12-04T11:05:02.326546Z",
     "start_time": "2022-12-04T11:05:02.318548Z"
    }
   },
   "outputs": [],
   "source": [
    "data = get_data(3)"
   ]
  },
  {
   "cell_type": "markdown",
   "metadata": {},
   "source": [
    "Let's use string and set to solve this problem. We need to find what is the common letter in both halves and Python's `set.intersection` does it."
   ]
  },
  {
   "cell_type": "code",
   "execution_count": null,
   "metadata": {
    "ExecuteTime": {
     "end_time": "2022-12-04T11:05:02.590138Z",
     "start_time": "2022-12-04T11:05:02.576143Z"
    }
   },
   "outputs": [
    {
     "name": "stdout",
     "output_type": "stream",
     "text": [
      "8240\n"
     ]
    }
   ],
   "source": [
    "import string\n",
    "items = string.ascii_lowercase+string.ascii_uppercase\n",
    "\n",
    "score=0\n",
    "for ruck in data[1]:\n",
    "    hi = len(ruck)//2\n",
    "    h1 = ruck[:hi]\n",
    "    h2 = ruck[hi:]\n",
    "    rep = list(set(h1).intersection(set(h2)))\n",
    "    score+=sum([items.index(v)+1 for v in rep ])\n",
    "print(score)"
   ]
  },
  {
   "cell_type": "markdown",
   "metadata": {},
   "source": [
    "### Part 2"
   ]
  },
  {
   "cell_type": "markdown",
   "metadata": {},
   "source": [
    "There are 3 groups and we need to find the common letter among these three. Again using NumPy to splitting array and set intersection to find the common."
   ]
  },
  {
   "cell_type": "code",
   "execution_count": null,
   "metadata": {
    "ExecuteTime": {
     "end_time": "2022-12-04T11:05:03.905245Z",
     "start_time": "2022-12-04T11:05:03.892244Z"
    }
   },
   "outputs": [
    {
     "name": "stdout",
     "output_type": "stream",
     "text": [
      "2587\n"
     ]
    }
   ],
   "source": [
    "darr = np.array(data[1])\n",
    "darr = np.split(darr, np.arange(3, len(darr), 3))\n",
    "\n",
    "score = 0\n",
    "for arr in darr:\n",
    "    cv = set(arr[0]).intersection(set(arr[1])).intersection(set(arr[2]))\n",
    "    score+=sum([items.index(v)+1 for v in cv ])\n",
    "print(score)\n",
    "    "
   ]
  },
  {
   "cell_type": "code",
   "execution_count": null,
   "metadata": {
    "ExecuteTime": {
     "end_time": "2022-12-04T10:44:44.310022Z",
     "start_time": "2022-12-04T10:44:44.291998Z"
    }
   },
   "outputs": [],
   "source": []
  },
  {
   "cell_type": "markdown",
   "metadata": {},
   "source": [
    "## Day 4"
   ]
  },
  {
   "cell_type": "markdown",
   "metadata": {},
   "source": [
    "### Part 1"
   ]
  },
  {
   "cell_type": "code",
   "execution_count": null,
   "metadata": {
    "ExecuteTime": {
     "end_time": "2022-12-04T11:05:05.482694Z",
     "start_time": "2022-12-04T11:05:05.464682Z"
    }
   },
   "outputs": [],
   "source": [
    "data = get_data(4)"
   ]
  },
  {
   "cell_type": "code",
   "execution_count": null,
   "metadata": {
    "ExecuteTime": {
     "end_time": "2022-12-04T11:05:06.079812Z",
     "start_time": "2022-12-04T11:05:06.064350Z"
    }
   },
   "outputs": [
    {
     "data": {
      "text/plain": [
       "['2-4,6-8', '2-3,4-5', '5-7,7-9', '2-8,3-7', '6-6,4-6', '2-6,4-8']"
      ]
     },
     "execution_count": 143,
     "metadata": {},
     "output_type": "execute_result"
    }
   ],
   "source": [
    "data[0]"
   ]
  },
  {
   "cell_type": "markdown",
   "metadata": {},
   "source": [
    "Again, using the set seems to be the best idea. If the difference between two sets results in empty sets then the first set really is a subset of the second set."
   ]
  },
  {
   "cell_type": "code",
   "execution_count": null,
   "metadata": {
    "ExecuteTime": {
     "end_time": "2022-12-04T11:05:06.613521Z",
     "start_time": "2022-12-04T11:05:06.579441Z"
    }
   },
   "outputs": [
    {
     "name": "stdout",
     "output_type": "stream",
     "text": [
      "602\n"
     ]
    }
   ],
   "source": [
    "score = 0\n",
    "for grp in data[1]:\n",
    "    g1 = list(map(int, grp.split(',')[0].split(\"-\")))\n",
    "    g2 = list(map(int,grp.split(',')[1].split(\"-\")))\n",
    "    \n",
    "    g1 = set(range(g1[0], g1[1]+1))\n",
    "    g2 = set(range(g2[0], g2[1]+1))\n",
    "    \n",
    "    if g1-g2 == set() or g2-g1==set():\n",
    "        score+=1\n",
    "    \n",
    "print(score)    "
   ]
  },
  {
   "cell_type": "markdown",
   "metadata": {
    "ExecuteTime": {
     "end_time": "2022-12-04T10:56:27.636492Z",
     "start_time": "2022-12-04T10:56:27.629495Z"
    }
   },
   "source": [
    "### Part 2"
   ]
  },
  {
   "cell_type": "markdown",
   "metadata": {},
   "source": [
    "Now let's find if the intersection is empty or not. If it not then some overlapping has occurred."
   ]
  },
  {
   "cell_type": "code",
   "execution_count": null,
   "metadata": {
    "ExecuteTime": {
     "end_time": "2022-12-04T11:00:23.812266Z",
     "start_time": "2022-12-04T11:00:23.792277Z"
    }
   },
   "outputs": [
    {
     "name": "stdout",
     "output_type": "stream",
     "text": [
      "891\n"
     ]
    }
   ],
   "source": [
    "score = 0\n",
    "for grp in data[1]:\n",
    "    g1 = list(map(int, grp.split(',')[0].split(\"-\")))\n",
    "    g2 = list(map(int,grp.split(',')[1].split(\"-\")))\n",
    "    \n",
    "    g1 = set(range(g1[0], g1[1]+1))\n",
    "    g2 = set(range(g2[0], g2[1]+1))\n",
    "    \n",
    "    if g1.intersection(g2) != set():\n",
    "        score+=1\n",
    "    \n",
    "print(score)    "
   ]
  },
  {
   "attachments": {},
   "cell_type": "markdown",
   "metadata": {},
   "source": [
    "## Day 5"
   ]
  },
  {
   "attachments": {},
   "cell_type": "markdown",
   "metadata": {},
   "source": [
    "### Part 1"
   ]
  },
  {
   "cell_type": "code",
   "execution_count": 80,
   "metadata": {},
   "outputs": [
    {
     "data": {
      "text/plain": [
       "'    [D]    \\n[N] [C]    \\n[Z] [M] [P]\\n 1   2   3 \\n\\nmove 1 from 2 to 1\\nmove 3 from 1 to 3\\nmove 2 from 2 to 1\\nmove 1 from 1 to 2\\n'"
      ]
     },
     "execution_count": 80,
     "metadata": {},
     "output_type": "execute_result"
    }
   ],
   "source": [
    "data=get_data(5, raw=True)\n",
    "data[0]"
   ]
  },
  {
   "cell_type": "code",
   "execution_count": 105,
   "metadata": {},
   "outputs": [
    {
     "name": "stdout",
     "output_type": "stream",
     "text": [
      "Stacks: 9\n",
      "CStack: {1: ['N', 'D', 'M', 'Q', 'B', 'P', 'Z'], 2: ['C', 'L', 'Z', 'Q', 'M', 'D', 'H', 'V'], 3: ['Q', 'H', 'R', 'D', 'V', 'F', 'Z', 'G'], 4: ['H', 'G', 'D', 'F', 'N'], 5: ['N', 'F', 'Q'], 6: ['D', 'Q', 'V', 'Z', 'F', 'B', 'T'], 7: ['Q', 'M', 'T', 'Z', 'D', 'V', 'S', 'H'], 8: ['M', 'G', 'F', 'P', 'N', 'Q'], 9: ['B', 'W', 'R', 'M']}\n",
      "QGTHFZBHV\n"
     ]
    }
   ],
   "source": [
    "cdata=data[1].split(\"\\n\")\n",
    "if \"\" ==cdata[0]:\n",
    "    cdata=cdata[1:]\n",
    "nstacks = int(cdata[cdata.index('')-1].strip().split(\" \")[-1])\n",
    "stack_n = cdata[cdata.index('')-1].strip().split(\" \")\n",
    "print(f'Stacks: {nstacks}')\n",
    "instructions = cdata[cdata.index('')+1:]\n",
    "crates = cdata[:cdata.index('')]\n",
    "crates = [list(c) for c in crates]\n",
    "crates = np.array(crates).T\n",
    "stacks_d = {int(c[-1]):list(''.join(c[:-1][::-1]).strip()) for c in crates if '[' not in c and ']' not in c and c[-1] in stack_n}\n",
    "\n",
    "print(f\"CStack:\", stacks_d)\n",
    "for ins in instructions:\n",
    "    \n",
    "    # print(ins)\n",
    "    ins = ins.strip().split(\" \")\n",
    "    if len(ins)!=6:\n",
    "        continue\n",
    "    mcrates = ins[1]\n",
    "    mfrom = ins[3]\n",
    "    mto = ins[5]\n",
    "\n",
    "    cc = stacks_d[int(mfrom)][-int(mcrates):]\n",
    "    stacks_d[int(mfrom)] = stacks_d[int(mfrom)][:-int(mcrates)]\n",
    "    stacks_d[int(mto)] = stacks_d[int(mto)] + cc[::-1]\n",
    "    # print(stacks_d)\n",
    "print(\"\".join([c[-1] for c in stacks_d.values()]))"
   ]
  },
  {
   "attachments": {},
   "cell_type": "markdown",
   "metadata": {},
   "source": [
    "### Part 2\n",
    "This part is easier than the previous one because while adding the list, we do not have to reverse it like previous time."
   ]
  },
  {
   "cell_type": "code",
   "execution_count": 104,
   "metadata": {},
   "outputs": [
    {
     "name": "stdout",
     "output_type": "stream",
     "text": [
      "Stacks: 9\n",
      "CStack: {1: ['N', 'D', 'M', 'Q', 'B', 'P', 'Z'], 2: ['C', 'L', 'Z', 'Q', 'M', 'D', 'H', 'V'], 3: ['Q', 'H', 'R', 'D', 'V', 'F', 'Z', 'G'], 4: ['H', 'G', 'D', 'F', 'N'], 5: ['N', 'F', 'Q'], 6: ['D', 'Q', 'V', 'Z', 'F', 'B', 'T'], 7: ['Q', 'M', 'T', 'Z', 'D', 'V', 'S', 'H'], 8: ['M', 'G', 'F', 'P', 'N', 'Q'], 9: ['B', 'W', 'R', 'M']}\n",
      "MGDMPSZTM\n"
     ]
    }
   ],
   "source": [
    "cdata=data[1].split(\"\\n\")\n",
    "if \"\" ==cdata[0]:\n",
    "    cdata=cdata[1:]\n",
    "nstacks = int(cdata[cdata.index('')-1].strip().split(\" \")[-1])\n",
    "stack_n = cdata[cdata.index('')-1].strip().split(\" \")\n",
    "print(f'Stacks: {nstacks}')\n",
    "instructions = cdata[cdata.index('')+1:]\n",
    "crates = cdata[:cdata.index('')]\n",
    "crates = [list(c) for c in crates]\n",
    "crates = np.array(crates).T\n",
    "stacks_d = {int(c[-1]):list(''.join(c[:-1][::-1]).strip()) for c in crates if '[' not in c and ']' not in c and c[-1] in stack_n}\n",
    "\n",
    "print(f\"CStack:\", stacks_d)\n",
    "for ins in instructions:\n",
    "    \n",
    "    # print(ins)\n",
    "    ins = ins.strip().split(\" \")\n",
    "    if len(ins)!=6:\n",
    "        continue\n",
    "    mcrates = ins[1]\n",
    "    mfrom = ins[3]\n",
    "    mto = ins[5]\n",
    "\n",
    "    cc = stacks_d[int(mfrom)][-int(mcrates):]\n",
    "    stacks_d[int(mfrom)] = stacks_d[int(mfrom)][:-int(mcrates)]\n",
    "    stacks_d[int(mto)] = stacks_d[int(mto)] + cc\n",
    "    # print(stacks_d)\n",
    "print(\"\".join([c[-1] for c in stacks_d.values()]))\n",
    "\n",
    "\n",
    "    \n"
   ]
  },
  {
   "cell_type": "markdown",
   "metadata": {},
   "source": []
  }
 ],
 "metadata": {
  "kernelspec": {
   "display_name": "base",
   "language": "python",
   "name": "python3"
  },
  "language_info": {
   "codemirror_mode": {
    "name": "ipython",
    "version": 3
   },
   "file_extension": ".py",
   "mimetype": "text/x-python",
   "name": "python",
   "nbconvert_exporter": "python",
   "pygments_lexer": "ipython3",
   "version": "3.8.5"
  },
  "latex_envs": {
   "LaTeX_envs_menu_present": true,
   "autoclose": false,
   "autocomplete": true,
   "bibliofile": "biblio.bib",
   "cite_by": "apalike",
   "current_citInitial": 1,
   "eqLabelWithNumbers": true,
   "eqNumInitial": 1,
   "hotkeys": {
    "equation": "Ctrl-E",
    "itemize": "Ctrl-I"
   },
   "labels_anchors": false,
   "latex_user_defs": false,
   "report_style_numbering": false,
   "user_envs_cfg": false
  },
  "toc": {
   "base_numbering": 1,
   "nav_menu": {},
   "number_sections": true,
   "sideBar": true,
   "skip_h1_title": false,
   "title_cell": "Table of Contents",
   "title_sidebar": "Contents",
   "toc_cell": false,
   "toc_position": {},
   "toc_section_display": true,
   "toc_window_display": true
  },
  "varInspector": {
   "cols": {
    "lenName": 16,
    "lenType": 16,
    "lenVar": 40
   },
   "kernels_config": {
    "python": {
     "delete_cmd_postfix": "",
     "delete_cmd_prefix": "del ",
     "library": "var_list.py",
     "varRefreshCmd": "print(var_dic_list())"
    },
    "r": {
     "delete_cmd_postfix": ") ",
     "delete_cmd_prefix": "rm(",
     "library": "var_list.r",
     "varRefreshCmd": "cat(var_dic_list()) "
    }
   },
   "types_to_exclude": [
    "module",
    "function",
    "builtin_function_or_method",
    "instance",
    "_Feature"
   ],
   "window_display": false
  },
  "vscode": {
   "interpreter": {
    "hash": "ad2bdc8ecc057115af97d19610ffacc2b4e99fae6737bb82f5d7fb13d2f2c186"
   }
  }
 },
 "nbformat": 4,
 "nbformat_minor": 4
}
